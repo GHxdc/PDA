{
 "cells": [
  {
   "cell_type": "code",
   "execution_count": 2,
   "metadata": {},
   "outputs": [],
   "source": [
    "import numpy as np\n",
    "import pandas as pd\n",
    "import random as rd\n",
    "import collections\n",
    "import time\n",
    "import random\n",
    "\n",
    "import torch\n",
    "import torch.nn as nn\n",
    "from torch.utils.data import Dataset\n",
    "\n",
    "from used_metric import get_performance\n",
    "\n",
    "r_path = './douban/'"
   ]
  },
  {
   "cell_type": "code",
   "execution_count": 3,
   "metadata": {},
   "outputs": [
    {
     "data": {
      "text/plain": [
       "device(type='cuda')"
      ]
     },
     "execution_count": 3,
     "metadata": {},
     "output_type": "execute_result"
    }
   ],
   "source": [
    "device = torch.device(\"cuda\" if torch.cuda.is_available() else \"cpu\")\n",
    "device"
   ]
  },
  {
   "cell_type": "code",
   "execution_count": 4,
   "metadata": {},
   "outputs": [],
   "source": [
    "class Data(Dataset):\n",
    "    def __init__(self, path = r_path, batch_size = 2048, step = 100):\n",
    "        self.path = path\n",
    "        self.batch_size = batch_size\n",
    "        self.step = step\n",
    "        self.n_users, self.n_items = 0, 0\n",
    "        self.train_user_list = collections.defaultdict(list)\n",
    "        self.train_item_list = collections.defaultdict(list)\n",
    "        \n",
    "        self.test_user_list = collections.defaultdict(list)\n",
    "        self.test_item_list = collections.defaultdict(list)\n",
    "        \n",
    "        self.load_train_data()\n",
    "        self.load_test_data()\n",
    "        \n",
    "        self.n_users = self.n_users + 1\n",
    "        self.n_items = self.n_items + 1\n",
    "        self.users = list(range(self.n_users))\n",
    "        self.items = list(range(self.n_items))\n",
    "\n",
    "        self.length = self.batch_size * self.step\n",
    "        \n",
    "    def load_train_data(self):          \n",
    "        train_file = self.path + 'train.txt'\n",
    "        with open(train_file) as f:\n",
    "            for line in f.readlines():\n",
    "                line = line.strip('\\n').split(' ')\n",
    "                if len(line) == 0:\n",
    "                    continue\n",
    "                line = [int(i) for i in line]\n",
    "                user = line[0]\n",
    "                items = line[1:]\n",
    "                if (len(items)==0):\n",
    "                    continue\n",
    "                self.train_user_list[user] = items\n",
    "                for item in items:\n",
    "                    self.train_item_list[item].append(user)\n",
    "                self.n_users = max(self.n_users, user)\n",
    "                self.n_items = max(self.n_items, max(items))\n",
    "        \n",
    "    def load_test_data(self):\n",
    "        test_file = self.path + 'test.txt'\n",
    "        with open(test_file) as f:\n",
    "            for line in f.readlines():\n",
    "                line = line.strip('\\n').split(' ')\n",
    "                if len(line) == 0:\n",
    "                    continue\n",
    "                line = [int(i) for i in line]\n",
    "                user = line[0]\n",
    "                items = line[1:]\n",
    "                if (len(items)==0):\n",
    "                    continue\n",
    "                self.test_user_list[user] = items\n",
    "                for item in items:\n",
    "                    self.test_item_list[item].append(user)\n",
    "                self.n_users = max(self.n_users, user)\n",
    "                self.n_items = max(self.n_items, max(items))\n",
    "        \n",
    "    def __len__(self):\n",
    "        return self.length\n",
    "    \n",
    "    def __getitem__(self, idx):\n",
    "        neg_item = None\n",
    "        \n",
    "        user = random.choice(self.users)   \n",
    "\n",
    "        pos_items = list(self.train_user_list[user])\n",
    "        pos_item = random.choice(pos_items)\n",
    "        \n",
    "        while neg_item is None or neg_item in pos_items:\n",
    "            neg_item = random.choice(self.items)\n",
    "            \n",
    "        return user, pos_item, neg_item"
   ]
  },
  {
   "cell_type": "code",
   "execution_count": 5,
   "metadata": {},
   "outputs": [],
   "source": [
    "class evaluation():\n",
    "    def __init__(self, data, Ks, batch_size):\n",
    "        self.data = data\n",
    "        self.Ks = Ks\n",
    "        self.batch_size = batch_size\n",
    "\n",
    "    def test_one_batch(self, model, batch_user):\n",
    "        batch_user = batch_user.to(device)\n",
    "        batch_rec = model.do_recommendation(batch_user)\n",
    "        batch_rec = torch.sigmoid(batch_rec)\n",
    "        mask = torch.ones_like(batch_rec)\n",
    "        for i in range(len(batch_user)):\n",
    "            mask[i].scatter_(dim = 0, index=torch.tensor(list(self.data.train_user_list[batch_user[i].item()])).to(device), value=torch.tensor(0.0).to(device))\n",
    "        batch_rec = torch.mul(mask, batch_rec)\n",
    "        _, batch_rec = torch.sort(batch_rec, descending=True)\n",
    "        batch_rec = batch_rec.cpu().numpy()\n",
    "        result = {'precision': np.zeros(len(self.Ks)), 'recall': np.zeros(len(self.Ks)), 'ndcg': np.zeros(len(self.Ks)),\n",
    "                  'hit_ratio': np.zeros(len(self.Ks))}\n",
    "        for i in range(len(batch_user)):\n",
    "            u = batch_user[i].item()\n",
    "            r = batch_rec[i]\n",
    "            u_target = self.data.test_user_list[u]\n",
    "            one_user_result = get_performance(u_target, r, self.Ks)\n",
    "            result['precision'] += one_user_result['precision']\n",
    "            result['recall'] += one_user_result['recall']\n",
    "            result['ndcg'] += one_user_result['ndcg']\n",
    "            result['hit_ratio'] += one_user_result['hit_ratio']\n",
    "        return result\n",
    "\n",
    "    def eval(self, model):\n",
    "        result = {'precision': np.zeros(len(self.Ks)), 'recall': np.zeros(len(self.Ks)), 'ndcg': np.zeros(len(self.Ks)),\n",
    "                  'hit_ratio': np.zeros(len(self.Ks))}\n",
    "        all_users = list(self.data.test_user_list.keys())\n",
    "        tot_users = len(all_users)\n",
    "        for i in range(0, tot_users, self.batch_size):\n",
    "            end_idx = min(i + self.batch_size, tot_users)\n",
    "            batch_user = torch.tensor(all_users[i:end_idx], dtype=torch.long)\n",
    "            res = self.test_one_batch(model, batch_user)\n",
    "            \n",
    "            result['precision'] += res['precision']/tot_users\n",
    "            result['recall'] += res['recall']/tot_users\n",
    "            result['ndcg'] += res['ndcg']/tot_users\n",
    "            result['hit_ratio'] += res['hit_ratio']/tot_users\n",
    "        return result"
   ]
  },
  {
   "cell_type": "code",
   "execution_count": 6,
   "metadata": {},
   "outputs": [],
   "source": [
    "class BPRMF(nn.Module):\n",
    "    def __init__(self, n_users, n_items, emb_size, weight_decay):\n",
    "        super(BPRMF, self).__init__()\n",
    "        self.n_users = n_users\n",
    "        self.n_items = n_items\n",
    "\n",
    "        self.decay = weight_decay\n",
    "        self.emb_dim = emb_size\n",
    "\n",
    "        self.user_embedding = nn.Embedding(self.n_users, self.emb_dim)\n",
    "        self.item_embedding = nn.Embedding(self.n_items, self.emb_dim) \n",
    "        \n",
    "        self.user_embedding.weight.data.uniform_(0, 0.005)  # 0-0.005之间均匀分布\n",
    "        self.item_embedding.weight.data.uniform_(0, 0.005)\n",
    "    \n",
    "    def forward(self, users, pos_items, neg_items):\n",
    "        user_embedding = self.user_embedding(users)\n",
    "        pos_item_embedding = self.item_embedding(pos_items)\n",
    "        neg_item_embedding = self.item_embedding(neg_items)\n",
    "\n",
    "        pos_scores = torch.sum(user_embedding * pos_item_embedding, dim=1)\n",
    "        neg_scores = torch.sum(user_embedding * neg_item_embedding, dim=1)\n",
    "\n",
    "        bpr_loss = -torch.mean(torch.log(torch.sigmoid(pos_scores - neg_scores)))\n",
    "        \n",
    "        regularizer = torch.norm(user_embedding, p=2) + torch.norm(pos_item_embedding, p=2) + torch.norm(neg_item_embedding, p=2)\n",
    "        reg_loss = self.decay * regularizer\n",
    "        return bpr_loss + reg_loss\n",
    "    \n",
    "    def do_recommendation(self, users):\n",
    "        user_emb = self.user_embedding(users)\n",
    "        item_embs = self.item_embedding.weight\n",
    "        scores = torch.mm(user_emb, item_embs.t())\n",
    "        return scores"
   ]
  },
  {
   "cell_type": "code",
   "execution_count": 27,
   "metadata": {},
   "outputs": [],
   "source": [
    "dataset = Data(batch_size = 2048, step = 50)"
   ]
  },
  {
   "cell_type": "code",
   "execution_count": 28,
   "metadata": {},
   "outputs": [],
   "source": [
    "dataloader = torch.utils.data.DataLoader(dataset, batch_size=2048, shuffle=False, num_workers = 5)"
   ]
  },
  {
   "cell_type": "code",
   "execution_count": 29,
   "metadata": {},
   "outputs": [],
   "source": [
    "evaluator = evaluation(dataset, [20], 2048)"
   ]
  },
  {
   "cell_type": "code",
   "execution_count": 30,
   "metadata": {},
   "outputs": [],
   "source": [
    "model = BPRMF(dataset.n_users, dataset.n_items, emb_size = 32, weight_decay = 1e-04).to(device)\n",
    "optimizer = torch.optim.Adam(model.parameters(), lr = 0.001)"
   ]
  },
  {
   "cell_type": "code",
   "execution_count": 31,
   "metadata": {
    "tags": []
   },
   "outputs": [
    {
     "name": "stdout",
     "output_type": "stream",
     "text": [
      "epoch: 1, loss: 34.652760684490204\n",
      "{'precision': array([0.03208026]), 'recall': array([0.02649179]), 'ndcg': array([0.04050448]), 'hit_ratio': array([0.24940528])}\n",
      "Running time: 19.21567684900947 Seconds\n",
      "\n",
      "epoch: 2, loss: 34.37905418872833\n",
      "{'precision': array([0.03453424]), 'recall': array([0.0277724]), 'ndcg': array([0.04155037]), 'hit_ratio': array([0.26374108])}\n",
      "Running time: 18.662262000958435 Seconds\n",
      "\n",
      "epoch: 3, loss: 33.32693123817444\n",
      "{'precision': array([0.0339364]), 'recall': array([0.0273981]), 'ndcg': array([0.04033218]), 'hit_ratio': array([0.25892075])}\n",
      "Running time: 18.791090717015322 Seconds\n",
      "\n",
      "epoch: 4, loss: 31.39300948381424\n",
      "{'precision': array([0.03424941]), 'recall': array([0.02760956]), 'ndcg': array([0.040518]), 'hit_ratio': array([0.26417929])}\n",
      "Running time: 19.797205695009325 Seconds\n",
      "\n",
      "epoch: 5, loss: 28.806696951389313\n",
      "{'precision': array([0.03523225]), 'recall': array([0.02826879]), 'ndcg': array([0.04027271]), 'hit_ratio': array([0.26968824])}\n",
      "Running time: 18.91094608802814 Seconds\n",
      "\n"
     ]
    }
   ],
   "source": [
    "start = time.perf_counter()\n",
    "\n",
    "EPOCH = 5\n",
    "for epoch in range(EPOCH):\n",
    "    t_loss = 0.0\n",
    "    for idx, (users, pos_items, neg_items) in enumerate(dataloader):\n",
    "        users = users.to(device)\n",
    "        pos_items = pos_items.to(device)\n",
    "        neg_items = neg_items.to(device)\n",
    "        optimizer.zero_grad()\n",
    "        loss = model(users, pos_items, neg_items)\n",
    "        loss.backward()\n",
    "        optimizer.step()\n",
    "        t_loss += loss.item()\n",
    "        \n",
    "    res = evaluator.eval(model)\n",
    "    print(f'epoch: {epoch+1}, loss: {t_loss}')\n",
    "    print(res)\n",
    "    end = time.perf_counter()\n",
    "    print('Running time: %s Seconds\\n' % (end - start))\n",
    "    start = time.perf_counter()"
   ]
  },
  {
   "cell_type": "code",
   "execution_count": null,
   "metadata": {},
   "outputs": [],
   "source": []
  }
 ],
 "metadata": {
  "kernelspec": {
   "display_name": "Python 3 (ipykernel)",
   "language": "python",
   "name": "python3"
  },
  "language_info": {
   "codemirror_mode": {
    "name": "ipython",
    "version": 3
   },
   "file_extension": ".py",
   "mimetype": "text/x-python",
   "name": "python",
   "nbconvert_exporter": "python",
   "pygments_lexer": "ipython3",
   "version": "3.8.10"
  }
 },
 "nbformat": 4,
 "nbformat_minor": 4
}
